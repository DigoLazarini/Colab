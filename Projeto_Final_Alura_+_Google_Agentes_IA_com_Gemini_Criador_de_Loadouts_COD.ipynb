{
  "nbformat": 4,
  "nbformat_minor": 0,
  "metadata": {
    "colab": {
      "provenance": [],
      "include_colab_link": true
    },
    "kernelspec": {
      "name": "python3",
      "display_name": "Python 3"
    },
    "language_info": {
      "name": "python"
    }
  },
  "cells": [
    {
      "cell_type": "markdown",
      "metadata": {
        "id": "view-in-github",
        "colab_type": "text"
      },
      "source": [
        "<a href=\"https://colab.research.google.com/github/DigoLazarini/Colab/blob/main/Projeto_Final_Alura_%2B_Google_Agentes_IA_com_Gemini_Criador_de_Loadouts_COD.ipynb\" target=\"_parent\"><img src=\"https://colab.research.google.com/assets/colab-badge.svg\" alt=\"Open In Colab\"/></a>"
      ]
    },
    {
      "cell_type": "code",
      "source": [
        "%pip -q install google-genai"
      ],
      "metadata": {
        "id": "UCCbECexLk_h"
      },
      "execution_count": 194,
      "outputs": []
    },
    {
      "cell_type": "code",
      "source": [
        "# Configura a API Key do Google Gemini\n",
        "\n",
        "import os\n",
        "from google.colab import userdata\n",
        "os.environ[\"GOOGLE_API_KEY\"] = userdata.get('GOOGLE_API_KEY')"
      ],
      "metadata": {
        "id": "NfCqHo1tLk8P"
      },
      "execution_count": 195,
      "outputs": []
    },
    {
      "cell_type": "code",
      "source": [
        "# Configura o cliente da SDK do Gemini\n",
        "\n",
        "from google import genai\n",
        "\n",
        "client = genai.Client()\n",
        "\n",
        "MODEL_ID = \"gemini-2.0-flash\""
      ],
      "metadata": {
        "id": "bV4w0H5TLk5g"
      },
      "execution_count": 196,
      "outputs": []
    },
    {
      "cell_type": "code",
      "source": [
        "from IPython.display import HTML, Markdown, display\n",
        "import textwrap\n",
        "import requests\n",
        "import warnings\n",
        "warnings.filterwarnings(\"ignore\")\n",
        "from datetime import date"
      ],
      "metadata": {
        "id": "Y9cBAz02xZt9",
        "collapsed": true
      },
      "execution_count": 197,
      "outputs": []
    },
    {
      "cell_type": "code",
      "source": [
        "# Instalar Framework de agentes do Google ################################################\n",
        "!pip install -q google-adk"
      ],
      "metadata": {
        "id": "a1eRPalxEnj7"
      },
      "execution_count": 198,
      "outputs": []
    },
    {
      "cell_type": "code",
      "source": [
        "!pip install -q youtube_search\n",
        "import youtube_search"
      ],
      "metadata": {
        "collapsed": true,
        "id": "YQk7DodccGhW"
      },
      "execution_count": 199,
      "outputs": []
    },
    {
      "cell_type": "code",
      "source": [
        "from google.adk.tools.base_tool import BaseTool\n",
        "from google.adk.tools import google_search as google_search_tool\n",
        "from youtube_search import YoutubeSearch # Importe a classe YoutubeSearch\n",
        "from youtube_search import YoutubeSearch as YoutubeSearchTool # Mantenha o alias para usar como Tool\n"
      ],
      "metadata": {
        "id": "SLODlDtfxyTx"
      },
      "execution_count": 200,
      "outputs": []
    },
    {
      "cell_type": "code",
      "execution_count": 201,
      "metadata": {
        "id": "aePV2bdfDeoW",
        "collapsed": true
      },
      "outputs": [],
      "source": [
        "from google.adk.agents import Agent, BaseAgent # Importar Agent e BaseAgent\n",
        "from google.adk.runners import Runner\n",
        "from google.adk.tools import google_search as google_search_tool\n",
        "from google.adk.tools.base_tool import BaseTool\n",
        "from google.adk.sessions import InMemorySessionService\n",
        "from google.genai import types\n",
        "from youtube_search import YoutubeSearch, YoutubeSearch as YoutubeSearchTool"
      ]
    },
    {
      "cell_type": "code",
      "source": [
        "import google.adk.tools\n",
        "print(dir(google.adk.tools))"
      ],
      "metadata": {
        "colab": {
          "base_uri": "https://localhost:8080/"
        },
        "id": "1q_zSgKcvga0",
        "outputId": "2cac0945-9fa6-48ad-f060-05385a9b237e",
        "collapsed": true
      },
      "execution_count": 202,
      "outputs": [
        {
          "output_type": "stream",
          "name": "stdout",
          "text": [
            "['APIHubToolset', 'AuthToolArguments', 'BaseTool', 'ExampleTool', 'FunctionTool', 'LongRunningFunctionTool', 'ToolContext', 'VertexAiSearchTool', '__all__', '__builtins__', '__cached__', '__doc__', '__file__', '__loader__', '__name__', '__package__', '__path__', '__spec__', '_automatic_function_calling_util', 'apihub_tool', 'base_tool', 'built_in_code_execution', 'built_in_code_execution_tool', 'example_tool', 'exit_loop', 'exit_loop_tool', 'function_parameter_parse_util', 'function_tool', 'get_user_choice', 'get_user_choice_tool', 'google_api_tool', 'google_search', 'google_search_tool', 'load_artifacts', 'load_artifacts_tool', 'load_memory', 'load_memory_tool', 'long_running_tool', 'openapi_tool', 'preload_memory', 'preload_memory_tool', 'tool_context', 'transfer_to_agent', 'transfer_to_agent_tool', 'vertex_ai_search_tool']\n"
          ]
        }
      ]
    },
    {
      "cell_type": "code",
      "source": [
        "class GoogleSearchTool(BaseTool):\n",
        "    def __init__(self, **kwargs):\n",
        "        super().__init__(name=\"google_search\", description=\"Use para pesquisar informações no Google.\", **kwargs)\n",
        "\n",
        "    def _run(self, query: str) -> str:\n",
        "        results = google_search_tool.search(query)\n",
        "        return results\n",
        "\n",
        "class YoutubeSearchTool(BaseTool):\n",
        "    def __init__(self, **kwargs):\n",
        "        super().__init__(name=\"youtube_search\", description=\"Use para pesquisar vídeos no YouTube.\", **kwargs)\n",
        "\n",
        "    def _run(self, query: str) -> str:\n",
        "        results = YoutubeSearch(search_terms=query, max_results=5).to_dict() # Use YoutubeSearch e search_terms\n",
        "        formatted_results = \"\\n\".join([f\"Título: {r['title']}, Link: {r['url']}\" for r in results])\n",
        "        return formatted_results"
      ],
      "metadata": {
        "id": "llAdyOMhtIDw"
      },
      "execution_count": 203,
      "outputs": []
    },
    {
      "cell_type": "code",
      "source": [
        "def call_agent(agent: Agent, message_text: str) -> str:\n",
        "    session_service = InMemorySessionService()\n",
        "    session = session_service.create_session(app_name=agent.name, user_id=\"user1\", session_id=\"session1\")\n",
        "    runner = Runner(agent=agent, app_name=agent.name, session_service=session_service)\n",
        "    content = types.Content(role=\"user\", parts=[types.Part(text=message_text)])\n",
        "    final_response = \"\"\n",
        "    for event in runner.run(user_id=\"user1\", session_id=\"session1\", new_message=content):\n",
        "        if event.is_final_response():\n",
        "            for part in event.content.parts:\n",
        "                if part.text is not None:\n",
        "                    final_response += part.text\n",
        "            final_response += \"\\n\"\n",
        "    return final_response\n",
        "\n",
        "def to_markdown(text):\n",
        "    text = text.replace('.', '* ')\n",
        "    return Markdown(textwrap.indent(text, '> ', predicate=lambda _: True))"
      ],
      "metadata": {
        "id": "_xP4lWhsS5ko"
      },
      "execution_count": 204,
      "outputs": []
    },
    {
      "cell_type": "code",
      "source": [
        "# Função auxiliar para exibir texto formatado em Markdown no Colab\n",
        "def to_markdown(text):\n",
        "  text = text.replace('•', '  *')\n",
        "  return Markdown(textwrap.indent(text, '> ', predicate=lambda _: True))"
      ],
      "metadata": {
        "id": "8dosiodaxfFR"
      },
      "execution_count": 205,
      "outputs": []
    },
    {
      "cell_type": "code",
      "source": [
        "##################################################\n",
        "# --- Agente 1: Buscador de Builds (CoD) --- #\n",
        "###################################################\n",
        "\n",
        "def agente_buscador_cod(nome_da_arma: str, data_de_hoje: str, nome_jogo: str = \"Call of Duty Black Ops 6 e Warzone\") -> str:\n",
        "    \"\"\"\n",
        "    Agente responsável por buscar builds de armas para Call of Duty\n",
        "    no Google Search e YouTube.\n",
        "    \"\"\"\n",
        "    print(f\"--- Agente Buscador CoD: Buscando builds para {nome_da_arma}' em {nome_jogo}') ---\")\n",
        "\n",
        "    # Instanciando as ferramentas!\n",
        "    google_search_instance = GoogleSearchTool()\n",
        "    youtube_search_instance = YoutubeSearchTool()\n",
        "\n",
        "    buscador_cod = Agent(\n",
        "        name=\"agente_buscador_cod\",\n",
        "        model=\"gemini-2.0-flash\",\n",
        "        instruction=f\"\"\"\n",
        "        Você é um assistente de pesquisa especializado em jogos Call of Duty.\n",
        "        Sua tarefa é usar as ferramentas de busca do Google (google_search) e YouTube (youtube_search)\n",
        "        para encontrar as builds de armas e equipamentos (attachments, perks) mais recentes e populares\n",
        "        para a arma {nome_da_arma} no jogo {nome_jogo}.\n",
        "        Concentre-se em encontrar vídeos e guias que detalham os acessórios e vantagens recomendados.\n",
        "        Busque por termos como \"melhor build {nome_da_arma} {nome_jogo}\", \"best {nome_da_arma} class setup {nome_jogo}\",\n",
        "        \"meta {nome_da_arma} loadout {nome_jogo}\".\n",
        "        Forneça um resumo dos resultados encontrados, incluindo títulos de vídeos/guias e links diretos se possível.\n",
        "        Priorize informações recentes (últimos 3 meses).\n",
        "        \"\"\",\n",
        "        description=\"Agente que busca builds de armas para Call of Duty no Google e YouTube.\",\n",
        "        tools=[google_search_instance, youtube_search_instance] # Passando as INSTÂNCIAS das ferramentas\n",
        "    )\n",
        "\n",
        "    entrada_do_agente_buscador = f\"Arma: {nome_da_arma}\\nJogo: {nome_jogo}\\n\"\n",
        "    try:\n",
        "        # Supondo que 'call_agent' seja uma função definida em outro lugar no seu código\n",
        "        resultados_busca = call_agent(buscador_cod, entrada_do_agente_buscador)\n",
        "        print(\"--- Agente Buscador CoD: Busca concluída ---\")\n",
        "        return resultados_busca\n",
        "    except Exception as e:\n",
        "        print(f\"Erro no Agente Buscador CoD: {e}\")\n",
        "        return f\"Erro ao buscar builds para {nome_da_arma}.\""
      ],
      "metadata": {
        "id": "o8bqIfi_DyH8"
      },
      "execution_count": 206,
      "outputs": []
    },
    {
      "cell_type": "code",
      "source": [
        "#########################################\n",
        "# --- Agente 2: Planejador de Builds --- #\n",
        "#########################################\n",
        "\n",
        "def agente_planejador(lancamentos_buscados: str, nome_da_arma: str, nome_jogo: str) -> str:\n",
        "    \"\"\"\n",
        "    Agente responsável por planejar builds com base nos resultados da busca.\n",
        "    \"\"\"\n",
        "    print(f\"--- Agente Planejador: Planejando builds para {nome_da_arma}' em {nome_jogo} ---\")\n",
        "\n",
        "    planejador = Agent(\n",
        "        name=\"agente_planejador\",\n",
        "        model=\"gemini-2.0-flash\",\n",
        "        instruction=f\"\"\"\n",
        "        Você é um planejador de Builds, especialista em Criar Sets de Builds e Equips.\n",
        "        Com base nos resultados de pesquisa fornecidos:\n",
        "\n",
        "        {lancamentos_buscados}\n",
        "\n",
        "        sua tarefa é identificar e extrair as melhores builds de armas para a arma {nome_da_arma} no jogo {nome_jogo}.\n",
        "        Para cada build encontrada, liste os acessórios e as Vantagens (Perks) mencionados.\n",
        "\n",
        "        Organize as informações de forma clara.\n",
        "        \"\"\",\n",
        "        description=\"Agente que planeja Builds\",\n",
        "        tools=[google_search_tool, YoutubeSearchTool()] # Corrigido para usar a instância da classe\n",
        "    )\n",
        "\n",
        "    entrada_do_agente_planejador = f\"Resultados da busca: \\n{lancamentos_buscados}\"\n",
        "\n",
        "    try:\n",
        "        plano_de_build = call_agent(planejador, entrada_do_agente_planejador)\n",
        "        print(\"--- Agente Planejador: Planejamento concluido---\")\n",
        "        return plano_de_build\n",
        "    except Exception as e:\n",
        "        print(f\"Erro no Agente Planejador: {e}\")\n",
        "        return \"Erro ao planejar builds.\"\n"
      ],
      "metadata": {
        "id": "y3VO1uo5_ghO"
      },
      "execution_count": 207,
      "outputs": []
    },
    {
      "cell_type": "code",
      "source": [
        "########################################\n",
        "# --- Agente 3: Comparador das Builds --- #\n",
        "##########################################\n",
        "\n",
        "def agente_comparador(builds_planejadas: str, modo_jogo: str) -> str:\n",
        "    \"\"\"\n",
        "    Agente responsável por comparar as builds planejadas e selecionar as melhores\n",
        "    com base no modo de jogo.\n",
        "    \"\"\"\n",
        "    print(f\"--- Agente Comparador: Comparando builds para o modo {modo_jogo} ---\")\n",
        "\n",
        "    comparador = Agent(\n",
        "        name=\"agente_comparador_build\",\n",
        "        model=\"gemini-2.0-flash\",\n",
        "        instruction=f\"\"\"\n",
        "        Voce é um Comparador de Builds, especialista em pegar os melhores equipamentos, vantagens e armas, e criar o melhor Set de Loadout.\n",
        "        Com base nas builds fornecidas:\n",
        "\n",
        "        {builds_planejadas}\n",
        "\n",
        "        Identificar e extrair as 3 (três) melhores e mais distintas builds de armas adequadas para o modo de jogo {modo_jogo}.\n",
        "        Para cada build, liste os acessórios (Ex: Boca, Cano, Laser, Mira, Coronha, Acoplamento, Pente/Tambor, Munição, Cabo Traseiro) e Vantagens (Perks).\n",
        "        Se diferentes fontes sugerirem builds muito similares, tente consolidar ou priorizar a mais completa/recente.\n",
        "\n",
        "        Se não encontrar informações suficientes para 3 builds distintas ou detalhadas, liste o que encontrar,\n",
        "        indicando se a informação é limitada.\n",
        "\n",
        "        Foque em extrair os nomes dos acessórios e vantagens.\n",
        "        \"\"\",\n",
        "        description=\"Agente comparador de builds para determinar a melhor combinaçao de loadout por modo de jogo.\"\n",
        "    )\n",
        "\n",
        "    entrada_do_agente_comparador = f\"Builds planejadas: \\n{builds_planejadas}\\nModo de jogo: {modo_jogo}\"\n",
        "\n",
        "    try:\n",
        "        rascunho = call_agent(comparador, entrada_do_agente_comparador)\n",
        "        print(\"--- Agente Comparador: Comparação concluida ---\")\n",
        "        return rascunho\n",
        "    except Exception as e:\n",
        "        print(f\"Erro no Agente Comparador: {e}\")\n",
        "        return \"Erro ao comparar builds.\""
      ],
      "metadata": {
        "id": "uOqlg2TRLVh1"
      },
      "execution_count": 208,
      "outputs": []
    },
    {
      "cell_type": "code",
      "source": [
        "#################################\n",
        "# --- Agente 4: Indicador de Loadout --- #\n",
        "##########################################\n",
        "#\n",
        "def agente_indicador(builds_comparadas: str, modo_jogo: str) -> str:\n",
        "    \"\"\"\n",
        "    Agente responsável por formatar as melhores builds como um loadout final.\n",
        "    \"\"\"\n",
        "    print(f\"--- Agente Indicador: Gerando loadout para o modo {modo_jogo} ---\")\n",
        "\n",
        "    indicador = Agent(\n",
        "        name=\"agente_indicador\",\n",
        "        model=\"gemini-2.0-flash\",\n",
        "        instruction=f\"\"\"\n",
        "        Você é um Editor e Revisor de Loadout meticuloso, especializado em Builds para os modos de jogo, Multplayer, Zombie e Warzone.\n",
        "        Com base nas builds comparadas fornecidas:\n",
        "\n",
        "        {builds_comparadas}\n",
        "\n",
        "        Revise e faça a melhor combinação de loadout para o modo de jogo do player: {modo_jogo}.\n",
        "        Apresente a informação de forma organizada, como uma lista, usando Markdown para formatação.\n",
        "\n",
        "        Siga este formato:\n",
        "\n",
        "        Build [Número]: [Nome da Build ou Fonte, se disponivel]**\n",
        "        Boca: [Nome do Acessório]\n",
        "        Cano: [Nome do Acessório]\n",
        "        Laser: [Nome do Acessório]\n",
        "        Mira: [Nome do Acessório]\n",
        "        Coronha: [Nome do Acessórioj\n",
        "        Acoplamento: [Nome do Acessório]\n",
        "        Pente/Tambor: [Nome do Acessório] # Adicionado Pente/Tambor\n",
        "        Munição: [Nome do Acessório]\n",
        "        Cabo Traseiro: [Nome do Acessório]\n",
        "\n",
        "        Vantagens Recomendadas: [Perk1], [Perk2], [Perk3],\n",
        "\n",
        "        Responda APENAS com a lista das top 3 builds formatadas. Não adicione introduções ou conclusões extras.\n",
        "\n",
        "        Se não houver informações suficientes para 3 builds completas, formate o que for possivel com as informações disponíveis.\n",
        "        \"\"\",\n",
        "        description=\"Agente indicador de loadout para as Builds.\"\n",
        "    )\n",
        "\n",
        "    entrada_do_indicador_loadout = f\"Builds comparadas: \\n{builds_comparadas}\\nModo de jogo: {modo_jogo}\"\n",
        "\n",
        "    try:\n",
        "        texto_revisado = call_agent(indicador, entrada_do_indicador_loadout)\n",
        "        print(\"--- Agente Indicador: Loadout gerado ---\")\n",
        "        return texto_revisado\n",
        "    except Exception as e:\n",
        "        print(f\"Erro no Agente Indicador: {e}\")\n",
        "        return \"Erro ao gerar loadout.\""
      ],
      "metadata": {
        "id": "_aTb1SdkLeT6"
      },
      "execution_count": 209,
      "outputs": []
    },
    {
      "cell_type": "code",
      "source": [
        "print(\"Iniciando o Sistema de Criação de Builds e Loadouts para Call Of Duty: Black ops 6 e Warzone, com 4 Agentes\")\n",
        "\n",
        "# Obter o Tópico do Usuário\n",
        "topico = input(\"❓ Por favor, digite a arma e o modo de jogo (Ex: M4 para Warzone) que deseja jogar: \")\n",
        "\n",
        "# Inserir lógica do sistema de agentes ################################################\n",
        "if not topico:\n",
        "    print(\"Você esqueceu de digitar!\")\n",
        "else:\n",
        "    print(f\"Maravilha! Vamos então criar o seu Loadout para: {topico}\")\n",
        "\n",
        "    # Processamento com a cadeia de Agentes\n",
        "    # 1. Agente Buscador CoD\n",
        "    # Assuming the user input 'topico' can be split into weapon and mode.\n",
        "    # A more robust parsing might be needed depending on user input variations.\n",
        "    try:\n",
        "        # Attempt to split the input into weapon and mode, or use the whole topic as weapon\n",
        "        parts = topico.split(\" para \")\n",
        "        if len(parts) == 2:\n",
        "            nome_da_arma = parts[0].strip()\n",
        "            nome_jogo = parts[1].strip()\n",
        "        else:\n",
        "            nome_da_arma = topico.strip()\n",
        "            nome_jogo = \"Call of Duty Black Ops 6 e Warzone\"\n",
        "\n",
        "\n",
        "        lancamentos_buscados = agente_buscador_cod(nome_da_arma=nome_da_arma, data_de_hoje=data_de_hoje, nome_jogo=nome_jogo)\n",
        "        print(\"\\n--- 📝 Resultado do Agente 1 (agente_buscador_cod) ---\\n\")\n",
        "        display(to_markdown(lancamentos_buscados))\n",
        "        print(\"--------------------------------------------------------------\")\n",
        "\n",
        "        # 2. Agente Planejador\n",
        "        # Pass the results from the search agent to the planner\n",
        "        builds_planejadas = agente_planejador(lancamentos_buscados=lancamentos_buscados, nome_da_arma=nome_da_arma, nome_jogo=nome_jogo)\n",
        "        print(\"\\n--- 📝 Resultado do Agente 2 (agente_planejador) ---\\n\")\n",
        "        display(to_markdown(builds_planejadas))\n",
        "        print(\"--------------------------------------------------------------\")\n",
        "\n",
        "        # 3. Agente Comparador\n",
        "        # Pass the planned builds and the game mode to the comparator\n",
        "        # Assuming the user input 'topico' also contains the mode of game\n",
        "        # A more robust way to get the game mode might be needed.\n",
        "        modo_jogo = parts[1].strip() if len(parts) == 2 else \"geral\" # Default mode if not specified\n",
        "\n",
        "        builds_comparadas = agente_comparador(builds_planejadas=builds_planejadas, modo_jogo=modo_jogo)\n",
        "        print(\"\\n--- 📝 Resultado do Agente 3 (agente_comparador) ---\\n\")\n",
        "        display(to_markdown(builds_comparadas))\n",
        "        print(\"--------------------------------------------------------------\")\n",
        "\n",
        "\n",
        "        # 4. Agente Indicador\n",
        "        # Pass the compared builds and the game mode to the indicator\n",
        "        post_final = agente_indicador(builds_comparadas=builds_comparadas, modo_jogo=modo_jogo)\n",
        "        print(\"\\n--- 📝 Resultado do Agente 4 (agente_indicador) ---\\n\")\n",
        "        display(to_markdown(post_final))\n",
        "        print(\"--------------------------------------------------------------\")\n",
        "\n",
        "    except Exception as e:\n",
        "        print(f\"Ocorreu um erro durante a execução dos agentes: {e}\")"
      ],
      "metadata": {
        "colab": {
          "base_uri": "https://localhost:8080/",
          "height": 957
        },
        "id": "6xzI6LKzxxnN",
        "outputId": "a387bd95-8410-473f-b131-34f927317e2d",
        "collapsed": true
      },
      "execution_count": 210,
      "outputs": [
        {
          "output_type": "stream",
          "name": "stdout",
          "text": [
            "Iniciando o Sistema de Criação de Builds e Loadouts para Call Of Duty: Black ops 6 e Warzone, com 4 Agentes\n",
            "❓ Por favor, digite a arma e o modo de jogo (Ex: M4 para Warzone) que deseja jogar: ppsh multplayer\n",
            "Maravilha! Vamos então criar o seu Loadout para: ppsh multplayer\n",
            "--- Agente Buscador CoD: Buscando builds para ppsh multplayer' em Call of Duty Black Ops 6 e Warzone') ---\n",
            "--- Agente Buscador CoD: Busca concluída ---\n",
            "\n",
            "--- 📝 Resultado do Agente 1 (agente_buscador_cod) ---\n",
            "\n"
          ]
        },
        {
          "output_type": "display_data",
          "data": {
            "text/plain": [
              "<IPython.core.display.Markdown object>"
            ],
            "text/markdown": "> Ok, vou buscar as melhores builds de PPSh para o multplayer de Call of Duty Black Ops 6 e Warzone, focando em vídeos e guias recentes que detalham os acessórios e vantagens recomendadas.\n> \n"
          },
          "metadata": {}
        },
        {
          "output_type": "stream",
          "name": "stdout",
          "text": [
            "--------------------------------------------------------------\n",
            "--- Agente Planejador: Planejando builds para ppsh multplayer' em Call of Duty Black Ops 6 e Warzone ---\n",
            "--- Agente Planejador: Planejamento concluido---\n",
            "\n",
            "--- 📝 Resultado do Agente 2 (agente_planejador) ---\n",
            "\n"
          ]
        },
        {
          "output_type": "display_data",
          "data": {
            "text/plain": [
              "<IPython.core.display.Markdown object>"
            ],
            "text/markdown": "> Ok, estou pronto para procurar as melhores builds de PPSh para Call of Duty Black Ops 6 e Warzone. Assim que tiver os resultados da pesquisa com os acessórios e vantagens recomendadas, organizarei as informações de forma clara para você.\n> \n"
          },
          "metadata": {}
        },
        {
          "output_type": "stream",
          "name": "stdout",
          "text": [
            "--------------------------------------------------------------\n",
            "--- Agente Comparador: Comparando builds para o modo geral ---\n",
            "--- Agente Comparador: Comparação concluida ---\n",
            "\n",
            "--- 📝 Resultado do Agente 3 (agente_comparador) ---\n",
            "\n"
          ]
        },
        {
          "output_type": "display_data",
          "data": {
            "text/plain": [
              "<IPython.core.display.Markdown object>"
            ],
            "text/markdown": "> Ok, compreendido! Assim que tiver os resultados da pesquisa com os acessórios e vantagens recomendadas para a PPSh, organizarei as informações em um formato de fácil leitura, focando em identificar e extrair as 3 melhores e mais distintas builds para o modo de jogo geral. Priorizarei os nomes dos acessórios e vantagens para cada build.\n> \n"
          },
          "metadata": {}
        },
        {
          "output_type": "stream",
          "name": "stdout",
          "text": [
            "--------------------------------------------------------------\n",
            "--- Agente Indicador: Gerando loadout para o modo geral ---\n",
            "--- Agente Indicador: Loadout gerado ---\n",
            "\n",
            "--- 📝 Resultado do Agente 4 (agente_indicador) ---\n",
            "\n"
          ]
        },
        {
          "output_type": "display_data",
          "data": {
            "text/plain": [
              "<IPython.core.display.Markdown object>"
            ],
            "text/markdown": "> **Build 1: Equilibrada para Multijogador**\n> Boca: Silenciador GRU\n> Cano: Cano de 15.7\" Task Force\n> Laser: Laser VK Poderoso de 5mW\n> Coronha: Coronha Esqueleto Wire\n> Acoplamento: Punho Frontal Spetsnaz\n> Pente/Tambor: Tambor de 55 projéteis\n> Munição: [Não especificado nas fontes]\n> Cabo Traseiro: [Não especificado nas fontes]\n> \n> Vantagens Recomendadas: [Não especificado nas fontes]\n> \n> **Build 2: Focada em mobilidade e agilidade**\n> Boca: [Não especificado nas fontes]\n> Cano: [Não especificado nas fontes]\n> Laser: Laser Tiger Team Spotlight\n> Mira: [Não especificado nas fontes]\n> Coronha: [Não especificado nas fontes]\n> Acoplamento: Empunhadura de Combate Bruiser\n> Pente/Tambor: [Não especificado nas fontes]\n> Munição: [Não especificado nas fontes]\n> Cabo Traseiro: Empunhadura Serpent\n> \n> Vantagens Recomendadas: [Não especificado nas fontes]\n> \n> **Build 3: Precisão a distância**\n> Boca: Estabilizador de Boca\n> Cano: [Não especificado nas fontes]\n> Laser: [Não especificado nas fontes]\n> Mira: Reflexo Microflex LED\n> Coronha: [Não especificado nas fontes]\n> Acoplamento: [Não especificado nas fontes]\n> Pente/Tambor: [Não especificado nas fontes]\n> Munição: [Não especificado nas fontes]\n> Cabo Traseiro: [Não especificado nas fontes]\n> \n> Vantagens Recomendadas: [Não especificado nas fontes]\n> \n"
          },
          "metadata": {}
        },
        {
          "output_type": "stream",
          "name": "stdout",
          "text": [
            "--------------------------------------------------------------\n"
          ]
        }
      ]
    },
    {
      "cell_type": "code",
      "source": [
        "# prompt: crie uma interface WEB simples com a tematica do COD\n",
        "\n",
        "# Para criar uma interface web simples no Colab, usamos bibliotecas como `ipywidgets` ou `gradio`.\n",
        "# Gradio é mais fácil para criar interfaces web rápidas.\n",
        "\n",
        "!pip install -q gradio\n",
        "\n",
        "import gradio as gr\n",
        "\n",
        "def processar_build(arma_input, modo_input):\n",
        "    \"\"\"\n",
        "    Função que encapsula a lógica de execução dos agentes.\n",
        "    \"\"\"\n",
        "    print(f\"Processando requisição: Arma={arma_input}, Modo={modo_input}\")\n",
        "    try:\n",
        "        # Execução da cadeia de Agentes\n",
        "        data_de_hoje = date.today().strftime(\"%d/%m/%Y\") # Obter data atual para passar aos agentes\n",
        "\n",
        "        lancamentos_buscados = agente_buscador_cod(nome_da_arma=arma_input, data_de_hoje=data_de_hoje, nome_jogo=f\"Call of Duty Black Ops 6 e Warzone - Modo {modo_input}\")\n",
        "        print(\"\\n--- Agente 1 (agente_buscador_cod) Concluído ---\\n\")\n",
        "\n",
        "        builds_planejadas = agente_planejador(lancamentos_buscados=lancamentos_buscados, nome_da_arma=arma_input, nome_jogo=f\"Call of Duty Black Ops 6 e Warzone - Modo {modo_input}\")\n",
        "        print(\"\\n--- Agente 2 (agente_planejador) Concluído ---\\n\")\n",
        "\n",
        "        builds_comparadas = agente_comparador(builds_planejadas=builds_planejadas, modo_jogo=modo_input)\n",
        "        print(\"\\n--- Agente 3 (agente_comparador) Concluído ---\\n\")\n",
        "\n",
        "        post_final = agente_indicador(builds_comparadas=builds_comparadas, modo_jogo=modo_input)\n",
        "        print(\"\\n--- Agente 4 (agente_indicador) Concluído ---\\n\")\n",
        "\n",
        "        return post_final # Retornar o resultado final do indicador\n",
        "    except Exception as e:\n",
        "        print(f\"Erro durante o processamento da build: {e}\")\n",
        "        return f\"Ocorreu um erro ao processar sua solicitação: {e}\"\n",
        "\n",
        "# Configuração da Interface Web com Gradio\n",
        "with gr.Blocks(theme=gr.themes.Soft(primary_hue=\"red\")) as demo:\n",
        "    gr.Markdown(\n",
        "        \"\"\"\n",
        "        <h1 style='text-align: center; color: #e30000;'>🛠️ Criador de Loadouts para Call of Duty 🎮</h1>\n",
        "        <p style='text-align: center;'>Encontre as melhores builds e equipamentos para suas armas favoritas no Warzone e Black Ops 6!</p>\n",
        "        \"\"\"\n",
        "    )\n",
        "\n",
        "    with gr.Row():\n",
        "        arma_input = gr.Textbox(label=\"Nome da Arma (Ex: M4, KV Broadside)\")\n",
        "        modo_input = gr.Dropdown(\n",
        "            choices=[\"Warzone Battle Royale\", \"Warzone Ressurgência\", \"Multiplayer\", \"Zombies\"],\n",
        "            label=\"Modo de Jogo\"\n",
        "        )\n",
        "\n",
        "    submit_button = gr.Button(\"Criar Loadout!\")\n",
        "\n",
        "    gr.Markdown(\n",
        "        \"\"\"\n",
        "        <h2 style='text-align: center;'>Resultado do Loadout</h2>\n",
        "        \"\"\"\n",
        "    )\n",
        "    output_text = gr.Markdown()\n",
        "\n",
        "    submit_button.click(\n",
        "        fn=processar_build,\n",
        "        inputs=[arma_input, modo_input],\n",
        "        outputs=output_text\n",
        "    )\n",
        "\n",
        "demo.launch(debug=True)\n"
      ],
      "metadata": {
        "colab": {
          "base_uri": "https://localhost:8080/",
          "height": 1000
        },
        "id": "tYBsyHxpFeXy",
        "outputId": "8f375907-9fbc-4e3a-8f16-c2425c350555"
      },
      "execution_count": null,
      "outputs": [
        {
          "output_type": "stream",
          "name": "stdout",
          "text": [
            "It looks like you are running Gradio on a hosted a Jupyter notebook. For the Gradio app to work, sharing must be enabled. Automatically setting `share=True` (you can turn this off by setting `share=False` in `launch()` explicitly).\n",
            "\n",
            "Colab notebook detected. This cell will run indefinitely so that you can see errors and logs. To turn off, set debug=False in launch().\n",
            "* Running on public URL: https://41716a48244ff8a3bb.gradio.live\n",
            "\n",
            "This share link expires in 1 week. For free permanent hosting and GPU upgrades, run `gradio deploy` from the terminal in the working directory to deploy to Hugging Face Spaces (https://huggingface.co/spaces)\n"
          ]
        },
        {
          "output_type": "display_data",
          "data": {
            "text/plain": [
              "<IPython.core.display.HTML object>"
            ],
            "text/html": [
              "<div><iframe src=\"https://41716a48244ff8a3bb.gradio.live\" width=\"100%\" height=\"500\" allow=\"autoplay; camera; microphone; clipboard-read; clipboard-write;\" frameborder=\"0\" allowfullscreen></iframe></div>"
            ]
          },
          "metadata": {}
        },
        {
          "output_type": "stream",
          "name": "stdout",
          "text": [
            "Processando requisição: Arma=ppsh, Modo=Warzone Battle Royale\n",
            "--- Agente Buscador CoD: Buscando builds para ppsh' em Call of Duty Black Ops 6 e Warzone - Modo Warzone Battle Royale') ---\n",
            "--- Agente Buscador CoD: Busca concluída ---\n",
            "\n",
            "--- Agente 1 (agente_buscador_cod) Concluído ---\n",
            "\n",
            "--- Agente Planejador: Planejando builds para ppsh' em Call of Duty Black Ops 6 e Warzone - Modo Warzone Battle Royale ---\n",
            "--- Agente Planejador: Planejamento concluido---\n",
            "\n",
            "--- Agente 2 (agente_planejador) Concluído ---\n",
            "\n",
            "--- Agente Comparador: Comparando builds para o modo Warzone Battle Royale ---\n",
            "--- Agente Comparador: Comparação concluida ---\n",
            "\n",
            "--- Agente 3 (agente_comparador) Concluído ---\n",
            "\n",
            "--- Agente Indicador: Gerando loadout para o modo Warzone Battle Royale ---\n",
            "--- Agente Indicador: Loadout gerado ---\n",
            "\n",
            "--- Agente 4 (agente_indicador) Concluído ---\n",
            "\n",
            "Processando requisição: Arma=xm4, Modo=Warzone Battle Royale\n",
            "--- Agente Buscador CoD: Buscando builds para xm4' em Call of Duty Black Ops 6 e Warzone - Modo Warzone Battle Royale') ---\n",
            "--- Agente Buscador CoD: Busca concluída ---\n",
            "\n",
            "--- Agente 1 (agente_buscador_cod) Concluído ---\n",
            "\n",
            "--- Agente Planejador: Planejando builds para xm4' em Call of Duty Black Ops 6 e Warzone - Modo Warzone Battle Royale ---\n",
            "--- Agente Planejador: Planejamento concluido---\n",
            "\n",
            "--- Agente 2 (agente_planejador) Concluído ---\n",
            "\n",
            "--- Agente Comparador: Comparando builds para o modo Warzone Battle Royale ---\n",
            "--- Agente Comparador: Comparação concluida ---\n",
            "\n",
            "--- Agente 3 (agente_comparador) Concluído ---\n",
            "\n",
            "--- Agente Indicador: Gerando loadout para o modo Warzone Battle Royale ---\n",
            "--- Agente Indicador: Loadout gerado ---\n",
            "\n",
            "--- Agente 4 (agente_indicador) Concluído ---\n",
            "\n"
          ]
        }
      ]
    }
  ]
}